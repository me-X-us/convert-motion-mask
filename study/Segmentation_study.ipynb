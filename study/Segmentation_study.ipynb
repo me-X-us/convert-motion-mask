{
  "nbformat": 4,
  "nbformat_minor": 0,
  "metadata": {
    "colab": {
      "name": "Segmentation_study.ipynb",
      "provenance": [],
      "collapsed_sections": []
    },
    "kernelspec": {
      "name": "python3",
      "display_name": "Python 3"
    },
    "accelerator": "GPU"
  },
  "cells": [
    {
      "cell_type": "code",
      "metadata": {
        "id": "R0h6Ez7bL6zl",
        "outputId": "73dfd6e0-4cc8-48e2-e42e-eb67aa6d8dea",
        "colab": {
          "base_uri": "https://localhost:8080/"
        }
      },
      "source": [
        "import torch\n",
        "import torchvision\n",
        "from torchvision import models\n",
        "import torchvision.transforms as T\n",
        "import time\n",
        "import numpy as np\n",
        "from PIL import Image\n",
        "import matplotlib.pyplot as plt\n",
        "from google.colab.patches import cv2_imshow\n",
        "import cv2\n",
        "print('pytorch', torch.__version__)\n",
        "print('torchvision', torchvision.__version__)"
      ],
      "execution_count": 1,
      "outputs": [
        {
          "output_type": "stream",
          "text": [
            "pytorch 1.7.0+cu101\n",
            "torchvision 0.8.1+cu101\n"
          ],
          "name": "stdout"
        }
      ]
    },
    {
      "cell_type": "code",
      "metadata": {
        "id": "gk7YiTy-znZq",
        "outputId": "efcbdb7d-c8b8-4917-80d2-c584fdad60cd",
        "colab": {
          "base_uri": "https://localhost:8080/"
        }
      },
      "source": [
        "\n",
        "device = 'cuda' if torch.cuda.is_available() else 'cpu'\n",
        "print(device)"
      ],
      "execution_count": 2,
      "outputs": [
        {
          "output_type": "stream",
          "text": [
            "cuda\n"
          ],
          "name": "stdout"
        }
      ]
    },
    {
      "cell_type": "code",
      "metadata": {
        "id": "sm6jcLRwL8vU"
      },
      "source": [
        "IMG_SIZE = 480\n",
        "\n",
        "COLORS = np.array([\n",
        "    (0, 0, 0),       # 0=background\n",
        "    (128, 0, 0),     # 1=aeroplane\n",
        "    (0, 128, 0),     # 2=bicycle\n",
        "    (128, 128, 0),   # 3=bird\n",
        "    (0, 0, 128),     # 4=boat\n",
        "    (128, 0, 128),   # 5=bottle\n",
        "    (0, 128, 128),   # 6=bus\n",
        "    (128, 128, 128), # 7=car\n",
        "    (255, 255, 255), # 8=cat\n",
        "    (192, 0, 0),     # 9=chair\n",
        "    (64, 128, 0),    # 10=cow\n",
        "    (192, 128, 0),   # 11=dining table\n",
        "    (64, 0, 128),    # 12=dog\n",
        "    (192, 0, 128),   # 13=horse\n",
        "    (64, 128, 128),  # 14=motorbike\n",
        "    (192, 128, 128), # 15=person\n",
        "    (0, 64, 0),      # 16=potted plant\n",
        "    (128, 64, 0),    # 17=sheep\n",
        "    (0, 192, 0),     # 18=sofa\n",
        "    (128, 192, 0),   # 19=train\n",
        "    (0, 64, 128)     # 20=tv/monitor\n",
        "])"
      ],
      "execution_count": 4,
      "outputs": []
    },
    {
      "cell_type": "code",
      "metadata": {
        "id": "BmzQA-xmS7Si"
      },
      "source": [
        "deeplab = models.segmentation.deeplabv3_resnet101(pretrained=True).eval().to(device)"
      ],
      "execution_count": 5,
      "outputs": []
    },
    {
      "cell_type": "code",
      "metadata": {
        "id": "IXapzqogUBi4"
      },
      "source": [
        "trf = T.Compose([\n",
        "    T.Resize(IMG_SIZE),\n",
        "#     T.CenterCrop(IMG_SIZE), # make square image\n",
        "    T.ToTensor(), \n",
        "    T.Normalize(\n",
        "        mean=[0.485, 0.456, 0.406],\n",
        "        std=[0.229, 0.224, 0.225]\n",
        "    )\n",
        "])\n",
        "# 4차원 텐서로 변경\n",
        "# input_img = trf(img).unsqueeze(0)\n",
        "# print(input_img)"
      ],
      "execution_count": 6,
      "outputs": []
    },
    {
      "cell_type": "code",
      "metadata": {
        "id": "UM4iKfhQwP9U"
      },
      "source": [
        "fps = 30\n",
        "fcc = cv2.VideoWriter_fourcc('M','J','P','G')\n",
        "out_vid = cv2.VideoWriter('./DIVX.avi', fcc, fps,(480,480))\n",
        "index = 0"
      ],
      "execution_count": 12,
      "outputs": []
    },
    {
      "cell_type": "code",
      "metadata": {
        "id": "L6HgD99zVz--"
      },
      "source": [
        "video = cv2.VideoCapture(\"./testvid.mp4\")\n",
        "assert video.isOpened()\n",
        "nof_frames = video.get(cv2.CAP_PROP_FRAME_COUNT)\n",
        "# video 읽기\n",
        "while True:\n",
        "    t = time.time()\n",
        "    ret, frame = video.read()\n",
        "    if not ret:\n",
        "        break\n",
        "    # if frame is None:\n",
        "    #     break\n",
        "    img = cv2.cvtColor(frame, cv2.COLOR_BGR2RGB)\n",
        "    im_pil = Image.fromarray(img)\n",
        "    input_img = trf(im_pil).unsqueeze(0).to(device)\n",
        "    out = deeplab(input_img)['out']\n",
        "    out = torch.argmax(out.squeeze(), dim=0)\n",
        "    out = out.detach().cpu().numpy()\n",
        "\n",
        "    out_seg = seg_map(out)\n",
        "    # out_seg = cv2.cvtColor(out_seg,cv2.COLOR_RGB2BGR)\n",
        "    cv2_imshow(out_seg)\n",
        "    # print(out_seg)\n",
        "    out_vid.write(out_seg)\n",
        "    \n",
        "    fps = 1. / (time.time() - t)\n",
        "    print('\\rframe: % 4d / %d - framerate: %f fps ' % (index, nof_frames - 1, fps), end='')\n",
        "    index = index + 1  \n",
        "out_vid.release()"
      ],
      "execution_count": null,
      "outputs": []
    },
    {
      "cell_type": "code",
      "metadata": {
        "id": "z4mr__GkVOu7"
      },
      "source": [
        "# 해당 인덱스에 해당하는 색을 채움\n",
        "def seg_map(img, n_classes=21):\n",
        "    rgb = np.zeros((img.shape[0], img.shape[1], 3), dtype=np.uint8)\n",
        "\n",
        "    for c in range(n_classes):\n",
        "        idx = img == c\n",
        "\n",
        "        rgb[idx] = COLORS[c]\n",
        "\n",
        "    return rgb"
      ],
      "execution_count": 8,
      "outputs": []
    },
    {
      "cell_type": "code",
      "metadata": {
        "id": "p_SuxUtcVeOF"
      },
      "source": [
        "out_seg = seg_map(out)\n",
        "print(out_seg)\n",
        "fig, ax = plt.subplots(figsize=(16, 16))\n",
        "ax.imshow(out_seg)"
      ],
      "execution_count": null,
      "outputs": []
    }
  ]
}